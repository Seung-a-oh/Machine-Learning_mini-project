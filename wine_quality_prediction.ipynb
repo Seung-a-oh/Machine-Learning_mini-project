{
 "cells": [
  {
   "cell_type": "code",
   "execution_count": 2,
   "id": "3d38ec13",
   "metadata": {},
   "outputs": [],
   "source": [
    "import numpy as np\n",
    "import pandas as pd\n",
    "import matplotlib\n",
    "import matplotlib.pyplot as plt"
   ]
  },
  {
   "cell_type": "code",
   "execution_count": 148,
   "id": "c0d40541",
   "metadata": {},
   "outputs": [],
   "source": [
    "from sklearn.ensemble import ExtraTreesRegressor"
   ]
  },
  {
   "cell_type": "code",
   "execution_count": 3,
   "id": "76d63c12",
   "metadata": {},
   "outputs": [],
   "source": [
    "from sklearn.preprocessing import StandardScaler\n",
    "from sklearn.model_selection import train_test_split\n",
    "from sklearn.model_selection import cross_val_score\n",
    "from sklearn.pipeline import Pipeline"
   ]
  },
  {
   "cell_type": "code",
   "execution_count": 4,
   "id": "aa82b59a",
   "metadata": {},
   "outputs": [],
   "source": [
    "def display_scores(scores):\n",
    "    print(\"Scores:\",scores)\n",
    "    print(\"Mean:\",scores.mean())\n",
    "    print(\"Standard deviation:\",scores.std())"
   ]
  },
  {
   "cell_type": "code",
   "execution_count": 159,
   "id": "02925320",
   "metadata": {},
   "outputs": [],
   "source": [
    "df = pd.read_csv(\"./winequality-red.csv\")"
   ]
  },
  {
   "cell_type": "code",
   "execution_count": 171,
   "id": "49a15687",
   "metadata": {},
   "outputs": [],
   "source": [
    "train, test= train_test_split(df, test_size=0.001, random_state=42)"
   ]
  },
  {
   "cell_type": "code",
   "execution_count": 172,
   "id": "d6f70f6f",
   "metadata": {},
   "outputs": [],
   "source": [
    "x = train.drop(['quality'], axis=1)\n",
    "y = train.quality"
   ]
  },
  {
   "cell_type": "code",
   "execution_count": 173,
   "id": "07a1e795",
   "metadata": {},
   "outputs": [],
   "source": [
    "sc = StandardScaler()\n",
    "x = sc.fit_transform(x)"
   ]
  },
  {
   "cell_type": "markdown",
   "id": "4c6132ef",
   "metadata": {},
   "source": [
    "## ExtraTreesRegressor"
   ]
  },
  {
   "cell_type": "code",
   "execution_count": 149,
   "id": "68bc8e4e",
   "metadata": {},
   "outputs": [],
   "source": [
    "etr = ExtraTreesRegressor(random_state=0,n_estimators=1000,max_depth=24,max_features=5)"
   ]
  },
  {
   "cell_type": "code",
   "execution_count": 145,
   "id": "b6c7b6c7",
   "metadata": {},
   "outputs": [
    {
     "name": "stdout",
     "output_type": "stream",
     "text": [
      "Scores: [0.51028508 0.51067369 0.5853388  0.54928668 0.56392083 0.5906764\n",
      " 0.54267322 0.56756788 0.49620628 0.52162593]\n",
      "Mean: 0.5438254793436202\n",
      "Standard deviation: 0.03146656964345301\n"
     ]
    }
   ],
   "source": [
    "etr_scores = cross_val_score(etr,x, y,cv=10,scoring=\"neg_mean_squared_error\")\n",
    "etr_rmse = np.sqrt(-etr_scores)\n",
    "display_scores(etr_rmse)"
   ]
  },
  {
   "cell_type": "code",
   "execution_count": null,
   "id": "c925a623",
   "metadata": {},
   "outputs": [],
   "source": []
  }
 ],
 "metadata": {
  "kernelspec": {
   "display_name": "Python 3",
   "language": "python",
   "name": "python3"
  },
  "language_info": {
   "codemirror_mode": {
    "name": "ipython",
    "version": 3
   },
   "file_extension": ".py",
   "mimetype": "text/x-python",
   "name": "python",
   "nbconvert_exporter": "python",
   "pygments_lexer": "ipython3",
   "version": "3.8.8"
  }
 },
 "nbformat": 4,
 "nbformat_minor": 5
}
